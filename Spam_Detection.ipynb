{
 "cells": [
  {
   "cell_type": "code",
   "execution_count": 1,
   "id": "3ac76c2f",
   "metadata": {},
   "outputs": [],
   "source": [
    "import nltk\n",
    "import pandas as pd\n",
    "import string\n",
    "import re\n",
    "\n",
    "from sklearn.feature_extraction.text import TfidfVectorizer\n",
    "from sklearn.ensemble import RandomForestClassifier\n",
    "from sklearn.metrics import precision_score, recall_score, f1_score\n",
    "from sklearn.model_selection import train_test_split\n",
    "from sklearn.preprocessing import LabelEncoder"
   ]
  },
  {
   "cell_type": "code",
   "execution_count": 13,
   "id": "c13a172b",
   "metadata": {},
   "outputs": [
    {
     "name": "stdout",
     "output_type": "stream",
     "text": [
      "Number of nulls in label: 0\n",
      "Number of nulls in text: 0\n",
      "label\n",
      "ham     9650\n",
      "spam    1494\n",
      "Name: count, dtype: int64\n"
     ]
    },
    {
     "name": "stderr",
     "output_type": "stream",
     "text": [
      "[nltk_data] Downloading package stopwords to C:\\Users\\Prakash\n",
      "[nltk_data]     Raj\\AppData\\Roaming\\nltk_data...\n",
      "[nltk_data]   Package stopwords is already up-to-date!\n"
     ]
    }
   ],
   "source": [
    "import pandas as pd\n",
    "import nltk\n",
    "\n",
    "# Download NLTK stopwords if not already downloaded\n",
    "nltk.download('stopwords')\n",
    "\n",
    "# Set display option for wider text columns\n",
    "pd.set_option('display.max_colwidth', 100)\n",
    "\n",
    "# Load the first dataset\n",
    "messages1 = pd.read_csv('spam.csv', encoding=\"latin-1\")\n",
    "\n",
    "# Keep only the first two columns and rename\n",
    "messages1 = messages1.iloc[:, :2]\n",
    "messages1.columns = ['label', 'text']\n",
    "\n",
    "# Load the second dataset\n",
    "messages2 = pd.read_csv('spam_1.csv', encoding=\"latin-1\")\n",
    "\n",
    "# Keep only the first two columns and rename\n",
    "messages2 = messages2.iloc[:, :2]\n",
    "messages2.columns = ['label', 'text']\n",
    "\n",
    "# Combine both datasets\n",
    "messages = pd.concat([messages1, messages2], ignore_index=True)\n",
    "\n",
    "# Check for null values\n",
    "print('Number of nulls in label:', messages['label'].isnull().sum())\n",
    "print('Number of nulls in text:', messages['text'].isnull().sum())\n",
    "\n",
    "# Check the distribution of labels\n",
    "print(messages['label'].value_counts())\n",
    "\n",
    "# Define stopwords\n",
    "stopwords = nltk.corpus.stopwords.words('english')\n"
   ]
  },
  {
   "cell_type": "code",
   "execution_count": 15,
   "id": "04d89684",
   "metadata": {},
   "outputs": [],
   "source": [
    "# Function to clean text\n",
    "def cleantext(text):\n",
    "    text = \"\".join([char for char in text if char not in string.punctuation])\n",
    "    tokens = re.split('\\\\W+', text)\n",
    "    text = [word for word in tokens if word.lower() not in stopwords and word]  # Remove empty strings\n",
    "    return ' '.join(text)\n",
    "\n",
    "# Vectorize the text\n",
    "# Disable token_pattern warning by setting it to None (because we are using custom tokenizer)\n",
    "tfidf = TfidfVectorizer(tokenizer=lambda x: cleantext(x).split(), token_pattern=None)\n",
    "x_tfidf = tfidf.fit_transform(messages['text'])\n",
    "\n",
    "# Create DataFrame from TF-IDF features\n",
    "x_features = pd.DataFrame(x_tfidf.toarray())\n",
    "\n",
    "# Encode labels\n",
    "label_encoder = LabelEncoder()\n",
    "y_encoded = label_encoder.fit_transform(messages['label'])\n",
    "\n",
    "# Split the dataset\n",
    "x_train, x_test, y_train, y_test = train_test_split(x_features, y_encoded, test_size=0.2, random_state=42)"
   ]
  },
  {
   "cell_type": "code",
   "execution_count": 16,
   "id": "fa6e281d",
   "metadata": {},
   "outputs": [
    {
     "name": "stdout",
     "output_type": "stream",
     "text": [
      "Precision: 1.0 / Recall: 0.972 / F1-Score: 0.986\n"
     ]
    }
   ],
   "source": [
    "# Train the Random Forest model\n",
    "rf = RandomForestClassifier(random_state=42)\n",
    "rf_model = rf.fit(x_train, y_train)\n",
    "\n",
    "# Make predictions\n",
    "y_pred = rf_model.predict(x_test)\n",
    "\n",
    "# Calculate precision, recall, and F1-score\n",
    "precision = precision_score(y_test, y_pred, pos_label=1)  \n",
    "recall = recall_score(y_test, y_pred, pos_label=1)\n",
    "f1 = f1_score(y_test, y_pred, pos_label=1)\n",
    "print('Precision: {} / Recall: {} / F1-Score: {}'.format(round(precision, 3), round(recall, 3), round(f1, 3)))\n"
   ]
  },
  {
   "cell_type": "code",
   "execution_count": null,
   "id": "96a38f44",
   "metadata": {},
   "outputs": [
    {
     "name": "stdout",
     "output_type": "stream",
     "text": [
      "   0     1     2     3     4     5     6     7     8     9     ...  9554  \\\n",
      "0   0.0   0.0   0.0   0.0   0.0   0.0   0.0   0.0   0.0   0.0  ...   0.0   \n",
      "\n",
      "   9555  9556  9557  9558  9559  9560  9561  9562  9563  \n",
      "0   0.0   0.0   0.0   0.0   0.0   0.0   0.0   0.0   0.0  \n",
      "\n",
      "[1 rows x 9564 columns]\n",
      "Prediction for \"Hey, are we still on for dinner tonight? Let me know when you're free.\": ham\n"
     ]
    }
   ],
   "source": [
    "# Test with a new example message\n",
    "text = [\"Hey, are we still on for dinner tonight? Let me know when you're free.\"]\n",
    "text_tfidf = tfidf.transform(text)\n",
    "x_features = pd.DataFrame(text_tfidf.toarray())\n",
    "y_pred = rf_model.predict(x_features)\n",
    "predicted_label = label_encoder.inverse_transform(y_pred)  \n",
    "print('Prediction for \"{}\": {}'.format(text[0], predicted_label[0]))"
   ]
  }
 ],
 "metadata": {
  "kernelspec": {
   "display_name": "Python 3",
   "language": "python",
   "name": "python3"
  },
  "language_info": {
   "codemirror_mode": {
    "name": "ipython",
    "version": 3
   },
   "file_extension": ".py",
   "mimetype": "text/x-python",
   "name": "python",
   "nbconvert_exporter": "python",
   "pygments_lexer": "ipython3",
   "version": "3.13.3"
  }
 },
 "nbformat": 4,
 "nbformat_minor": 5
}
